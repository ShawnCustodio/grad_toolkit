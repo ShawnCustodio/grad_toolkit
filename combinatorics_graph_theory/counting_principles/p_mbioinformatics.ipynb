{
 "cells": [
  {
   "cell_type": "markdown",
   "id": "f0031d16",
   "metadata": {},
   "source": [
    "# Permutations in DNA Sequences\n",
    "DNA Sequences are composed of four nucleotides: Adenine (A), Thymine (T), Cytosine (C), and Guanine (G). The number of possible sequences of length `n` is calculated using permutations, where the order of nucleotides matters.\n",
    "\n",
    "### Example: Total Permutations for a Sequence of Length 10\n",
    "Calculate the number of possible DNA sequences of length 10."
   ]
  },
  {
   "cell_type": "code",
   "execution_count": 1,
   "id": "85cab992",
   "metadata": {},
   "outputs": [
    {
     "data": {
      "text/plain": [
       "1048576"
      ]
     },
     "execution_count": 1,
     "metadata": {},
     "output_type": "execute_result"
    }
   ],
   "source": [
    "nucleotides = 4 #A, T, C, G,\n",
    "sequence_length = 10\n",
    "\n",
    "total_permutations = nucleotides ** sequence_length\n",
    "total_permutations"
   ]
  }
 ],
 "metadata": {
  "kernelspec": {
   "display_name": "base",
   "language": "python",
   "name": "python3"
  },
  "language_info": {
   "codemirror_mode": {
    "name": "ipython",
    "version": 3
   },
   "file_extension": ".py",
   "mimetype": "text/x-python",
   "name": "python",
   "nbconvert_exporter": "python",
   "pygments_lexer": "ipython3",
   "version": "3.12.7"
  }
 },
 "nbformat": 4,
 "nbformat_minor": 5
}
