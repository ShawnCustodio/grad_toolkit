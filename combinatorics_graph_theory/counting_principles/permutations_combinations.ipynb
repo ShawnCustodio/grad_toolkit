{
 "cells": [
  {
   "cell_type": "markdown",
   "id": "444abe8f",
   "metadata": {},
   "source": [
    "# Counting Principles: Permutations and Combinations\n",
    "\n",
    "In this notebook, I will explore the concepts of **Permutations** and **Combinations**, which are fundamental in combinatorics. \n",
    "The notebook will go thorugh the definitions, formulas, with the inclusion of Python code to calculate them.\n",
    "\n",
    "## Key Concepts:\n",
    "- **Permutations**: Arrangements where order matters.\n",
    "- **Combinations**: Selections where order does not matter.\n",
    "\n"
   ]
  },
  {
   "cell_type": "markdown",
   "id": "d8383d6c",
   "metadata": {},
   "source": [
    "## Permutations\n",
    "\n",
    "A **Permutation** is an arrangement of objects where order matters. The formula to calculate permutations is:\n",
    "\n",
    "\\[\n",
    "nP_r = \\frac{n!}{(n - r)!}\n",
    "\\]\n",
    "\n",
    "Where:\n",
    "- \\( n \\) is the total number of objects.\n",
    "- \\( r \\) is the number of objects selected.\n",
    "\n",
    "### Example:\n",
    "Calculating the number of ways to arrange 3 objects from a set of 5 objects (denoted as 5P3)"
   ]
  },
  {
   "cell_type": "code",
   "execution_count": 2,
   "id": "42e3b120",
   "metadata": {},
   "outputs": [
    {
     "data": {
      "text/plain": [
       "60"
      ]
     },
     "execution_count": 2,
     "metadata": {},
     "output_type": "execute_result"
    }
   ],
   "source": [
    "import math\n",
    "\n",
    "def permutaitons(n, r):\n",
    "    \"\"\"Calculate permutaitons (nPr)\"\"\"\n",
    "    return math.factorial(n) // math.factorial(n - r)\n",
    "\n",
    "n, r = 5, 3\n",
    "perm_result = permutaitons(n, r)\n",
    "perm_result"
   ]
  },
  {
   "cell_type": "markdown",
   "id": "5ab179d2",
   "metadata": {},
   "source": [
    "## Combinations\n",
    "\n",
    "A **Combination** is a selection of objects where order does not matter. The formula to calculate combination is:\n",
    "\n",
    "\\[\n",
    "nC_r = \\frac{n!}{r!(n - r)!}\n",
    "\\]\n",
    "\n",
    "Where:\n",
    "- \\( n \\) is the total number of objects\n",
    "- \\( r \\) is the number of objects selected.\n",
    "\n",
    "### Example:\n",
    "Calculate how many ways to select 3 objects from a set of 5 objects (denoted as 5C3)"
   ]
  },
  {
   "cell_type": "code",
   "execution_count": 3,
   "id": "e9d9937f",
   "metadata": {},
   "outputs": [
    {
     "data": {
      "text/plain": [
       "10"
      ]
     },
     "execution_count": 3,
     "metadata": {},
     "output_type": "execute_result"
    }
   ],
   "source": [
    "def combinations(n, r):\n",
    "    \"\"\"Calculate combinations (nCr)\"\"\"\n",
    "    return math.factorial(n) // (math.factorial(r) * math.factorial(n - r))\n",
    "\n",
    "comb_result = combinations(n, r)\n",
    "comb_result\n"
   ]
  }
 ],
 "metadata": {
  "kernelspec": {
   "display_name": "base",
   "language": "python",
   "name": "python3"
  },
  "language_info": {
   "codemirror_mode": {
    "name": "ipython",
    "version": 3
   },
   "file_extension": ".py",
   "mimetype": "text/x-python",
   "name": "python",
   "nbconvert_exporter": "python",
   "pygments_lexer": "ipython3",
   "version": "3.12.7"
  }
 },
 "nbformat": 4,
 "nbformat_minor": 5
}
